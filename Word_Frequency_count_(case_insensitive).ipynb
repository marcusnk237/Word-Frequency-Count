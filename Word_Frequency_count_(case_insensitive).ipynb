{
  "nbformat": 4,
  "nbformat_minor": 0,
  "metadata": {
    "colab": {
      "name": "Word Frequency count (case insensitive).ipynb",
      "provenance": [],
      "collapsed_sections": [],
      "authorship_tag": "ABX9TyMPjHBISID+QjtYBm0hmaF1",
      "include_colab_link": true
    },
    "kernelspec": {
      "name": "python3",
      "display_name": "Python 3"
    }
  },
  "cells": [
    {
      "cell_type": "markdown",
      "metadata": {
        "id": "view-in-github",
        "colab_type": "text"
      },
      "source": [
        "<a href=\"https://colab.research.google.com/github/marcusnk237/Word-Frequency-Count/blob/main/Word_Frequency_count_(case_insensitive).ipynb\" target=\"_parent\"><img src=\"https://colab.research.google.com/assets/colab-badge.svg\" alt=\"Open In Colab\"/></a>"
      ]
    },
    {
      "cell_type": "code",
      "metadata": {
        "id": "uPeVqVvhqJdO"
      },
      "source": [
        "#!/usr/bin/python\n",
        "# -*- coding: UTF-8 -*-\n",
        "import re\n",
        "\n",
        "start_char = \"(?<![a-z])((?<!')|(?<=''))\"\n",
        "end_char = \"(?![a-z])((?!')|(?=''))\"\n",
        "\n",
        "# We use Python regular expression to find if our given word match is an existing word in the text (minus few conditions)\n",
        "def count_occurences_in_text(word, text):\n",
        "    pattern = (re.match('[a-z]', word, re.I) != None) * start_char\\\n",
        "              + word\\\n",
        "              + (re.match('[a-z]', word[-1], re.I) != None) * end_char\n",
        "    return  len(re.findall(pattern, text, re.IGNORECASE)) "
      ],
      "execution_count": null,
      "outputs": []
    }
  ]
}